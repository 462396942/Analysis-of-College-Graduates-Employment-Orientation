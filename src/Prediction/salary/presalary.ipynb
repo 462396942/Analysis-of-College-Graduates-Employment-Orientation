{
 "cells": [
  {
   "cell_type": "code",
   "execution_count": 11,
   "metadata": {},
   "outputs": [],
   "source": [
    "import pandas as pd\n",
    "import numpy as np"
   ]
  },
  {
   "cell_type": "code",
   "execution_count": 12,
   "metadata": {},
   "outputs": [],
   "source": [
    "train = pd.read_csv('train.csv',index_col=None,header=None)\n",
    "# test = pd.read_csv('test.csv',index_col=None,header=None)"
   ]
  },
  {
   "cell_type": "code",
   "execution_count": 13,
   "metadata": {},
   "outputs": [],
   "source": [
    "Y_trainmin = train.drop([0,1,2,4],axis=1)\n",
    "Y_trainmax = train.drop([0,1,2,3],axis=1)\n",
    "X_train = train.drop([3,4],axis=1)\n",
    "\n",
    "# Y_testmin = test.drop([0,1,2,4],axis=1)\n",
    "# Y_testmax = test.drop([0,1,2,3],axis=1)\n",
    "# X_test = test.drop([3,4],axis=1)"
   ]
  },
  {
   "cell_type": "code",
   "execution_count": 14,
   "metadata": {},
   "outputs": [],
   "source": [
    "# print(\"Number transactions train dataset: \", len(X_train))\n",
    "# print(\"Number transactions test dataset: \", len(X_test))\n",
    "# print(\"Total number of transactions: \", len(X_train)+len(X_test))"
   ]
  },
  {
   "cell_type": "code",
   "execution_count": 15,
   "metadata": {},
   "outputs": [],
   "source": [
    "from sklearn.ensemble import RandomForestRegressor,GradientBoostingRegressor\n",
    "import sklearn.metrics\n",
    "from sklearn.datasets import make_regression\n",
    "import seaborn as sns"
   ]
  },
  {
   "cell_type": "code",
   "execution_count": 16,
   "metadata": {},
   "outputs": [],
   "source": [
    "# print(Y_trainmax.max(axis=0))\n",
    "# print(Y_trainmin.max(axis=0))\n",
    "# print(Y_testmax.max(axis=0))\n",
    "# print(Y_testmin.max(axis=0))"
   ]
  },
  {
   "cell_type": "markdown",
   "metadata": {},
   "source": [
    "### GBDT "
   ]
  },
  {
   "cell_type": "code",
   "execution_count": 17,
   "metadata": {},
   "outputs": [
    {
     "name": "stderr",
     "output_type": "stream",
     "text": [
      "D:\\Anaconda\\lib\\site-packages\\sklearn\\utils\\validation.py:578: DataConversionWarning: A column-vector y was passed when a 1d array was expected. Please change the shape of y to (n_samples, ), for example using ravel().\n",
      "  y = column_or_1d(y, warn=True)\n"
     ]
    },
    {
     "name": "stdout",
     "output_type": "stream",
     "text": [
      "最小薪酬训练集均方根误差 3211.86913268\n",
      "最大薪酬训练集均方根误差 5501.38145387\n"
     ]
    }
   ],
   "source": [
    "regr = GradientBoostingRegressor(max_depth=20, random_state=0,max_features=2,n_estimators=333)\n",
    "regr.fit(X_train, Y_trainmin/90000)\n",
    "\n",
    "regr2 = GradientBoostingRegressor(max_depth=20, random_state=0,max_features=2,n_estimators=333)\n",
    "regr2.fit(X_train, Y_trainmax/100000)\n",
    "\n",
    "from sklearn.metrics import mean_squared_error\n",
    "from sklearn.metrics import r2_score\n",
    "y_pred = regr.predict(X_train.values)\n",
    "print('最小薪酬训练集均方根误差',np.sqrt(mean_squared_error(Y_trainmin.values.T[0], y_pred*90000)))\n",
    "# y_pred = regr.predict(X_test.values)\n",
    "# print('最小薪酬测试集均方根误差',np.sqrt(mean_squared_error(Y_testmin.values.T[0], y_pred*90000)))\n",
    "# print('最小薪酬R square',r2_score(Y_testmin.values.T[0], y_pred*90000))#衡量正确率\n",
    "\n",
    "y_pred2 = regr2.predict(X_train.values)\n",
    "print('最大薪酬训练集均方根误差',np.sqrt(mean_squared_error(Y_trainmax.values.T[0], y_pred2*100000)))\n",
    "# y_pred2 = regr.predict(X_test.values)\n",
    "# print('最大薪酬测试集均方根误差',np.sqrt(mean_squared_error(Y_testmax.values.T[0], y_pred2*100000)))\n",
    "# print('最大薪酬R square',r2_score(Y_testmax.values.T[0], y_pred2*100000))#衡量正确率\n"
   ]
  },
  {
   "cell_type": "code",
   "execution_count": 18,
   "metadata": {},
   "outputs": [],
   "source": [
    "minsalary = y_pred*90000\n",
    "maxsalary= y_pred2*100000"
   ]
  },
  {
   "cell_type": "code",
   "execution_count": 19,
   "metadata": {},
   "outputs": [],
   "source": [
    "Y_trainmax.columns =['最高工资']\n",
    "Y_trainmin.columns =['最低工资']\n",
    "Y_trainmax.to_csv('trainmaxsalary.csv',index=None)\n",
    "Y_trainmin.to_csv('trainminsalary.csv',index=None)"
   ]
  },
  {
   "cell_type": "code",
   "execution_count": 20,
   "metadata": {},
   "outputs": [],
   "source": [
    "#预测值\n",
    "file = open('pretrainmaxsalary.csv','a')\n",
    "for i in range(len(maxsalary)):\n",
    "    s = str(maxsalary[i]).replace('[','').replace(']','')#去除[],这两行按数据不同，可以选择\n",
    "    s = s.replace(\"'\",'').replace(',','') +'\\n'   #去除单引号，逗号，每行末尾追加换行符\n",
    "    file.write(s)\n",
    "file.close()\n",
    "file = open('pretrainminsalary.csv','a')\n",
    "for i in range(len(minsalary)):\n",
    "    s = str(minsalary[i]).replace('[','').replace(']','')#去除[],这两行按数据不同，可以选择\n",
    "    s = s.replace(\"'\",'').replace(',','') +'\\n'   #去除单引号，逗号，每行末尾追加换行符\n",
    "    file.write(s)\n",
    "file.close()\n",
    "\n"
   ]
  },
  {
   "cell_type": "code",
   "execution_count": 21,
   "metadata": {},
   "outputs": [],
   "source": [
    "maxsalary = pd.read_csv('pretrainmaxsalary.csv',header=None)\n",
    "minsalary = pd.read_csv('pretrainminsalary.csv',header=None)"
   ]
  },
  {
   "cell_type": "code",
   "execution_count": 22,
   "metadata": {},
   "outputs": [],
   "source": [
    "# minsalary.columns =['预测最高工资']\n",
    "# minsalary.columns =['预测最低工资']"
   ]
  },
  {
   "cell_type": "code",
   "execution_count": 23,
   "metadata": {},
   "outputs": [],
   "source": [
    "X_train.columns =['职位','城市','经验']"
   ]
  },
  {
   "cell_type": "code",
   "execution_count": 24,
   "metadata": {},
   "outputs": [],
   "source": [
    "X_train['预测最低工资']=minsalary\n",
    "X_train['预测最高工资']=maxsalary\n",
    "X_train.to_csv('result/salaryresult.csv',index=None,encoding=\"utf_8_sig\")"
   ]
  },
  {
   "cell_type": "code",
   "execution_count": 25,
   "metadata": {},
   "outputs": [],
   "source": [
    "#将职位城市经验从字典中转换出来\n",
    "city = pd.read_pickle('dict/city.pkl')\n",
    "experience = pd.read_pickle('dict/experience.pkl')\n",
    "occupation = pd.read_pickle('dict/occupation.pkl')\n",
    "salary = pd.read_csv('result/salaryresult.csv')\n",
    "\n",
    "precity =[]\n",
    "for i in salary['城市']:\n",
    "    for key,values in city.items():\n",
    "        if values == i:\n",
    "            precity.append(key)\n",
    "salary['城市'] = precity\n",
    "\n",
    "preexperience =[]\n",
    "for i in salary['经验']:\n",
    "    for key,values in experience.items():\n",
    "        if values == i:\n",
    "            preexperience.append(key)\n",
    "#print(preexperience)\n",
    "salary['经验'] = preexperience\n",
    "\n",
    "preoccupation =[]\n",
    "for i in salary['职位']:\n",
    "    for key,values in occupation.items():\n",
    "        if values == i:\n",
    "            preoccupation.append(key)\n",
    "#print(preexperience)\n",
    "salary['职位'] = preoccupation\n",
    "\n",
    "salary.to_csv('result/Resultsalary.csv',index=None,encoding=\"utf_8_sig\")"
   ]
  },
  {
   "cell_type": "code",
   "execution_count": null,
   "metadata": {},
   "outputs": [],
   "source": []
  }
 ],
 "metadata": {
  "kernelspec": {
   "display_name": "Python 3",
   "language": "python",
   "name": "python3"
  }
 },
 "nbformat": 4,
 "nbformat_minor": 2
}
