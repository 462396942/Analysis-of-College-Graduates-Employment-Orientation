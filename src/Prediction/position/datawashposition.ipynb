{
 "cells": [
  {
   "cell_type": "code",
   "execution_count": 11,
   "metadata": {},
   "outputs": [],
   "source": [
    "import pandas as pd\n",
    "import numpy as np\n",
    "from sklearn.feature_extraction.text import CountVectorizer,TfidfVectorizer\n",
    "%matplotlib inline\n",
    "import matplotlib.pyplot as plt"
   ]
  },
  {
   "cell_type": "code",
   "execution_count": 12,
   "metadata": {},
   "outputs": [],
   "source": [
    "#train = pd.read_csv('data/set',header=None,error_bad_lines=False,encoding='gbk2312', chunksize=4)\n",
    "# train = pd.read_csv('data/set',header=None,error_bad_lines=False,encoding='gbk')\n",
    "# y = train[0]"
   ]
  },
  {
   "cell_type": "code",
   "execution_count": 13,
   "metadata": {},
   "outputs": [],
   "source": [
    "#set2是set经过排序后删除重复项\n",
    "d = []\n",
    "f =open('data/set2','r')\n",
    "for line in f.readlines():\n",
    "    d.append(line.replace('\\n','').split(','))\n",
    "f.close()"
   ]
  },
  {
   "cell_type": "code",
   "execution_count": 14,
   "metadata": {},
   "outputs": [],
   "source": [
    "#能力小于等于1的删除\n",
    "data=[]\n",
    "label=[]\n",
    "for i in d:\n",
    "    if len(i)>2:\n",
    "        label.append(i[0])\n",
    "        data.append(i[1:])"
   ]
  },
  {
   "cell_type": "code",
   "execution_count": null,
   "metadata": {},
   "outputs": [],
   "source": []
  },
  {
   "cell_type": "code",
   "execution_count": 15,
   "metadata": {},
   "outputs": [],
   "source": [
    "#保存为datanew即可以理解为x 标签为lable可以理解为y\n",
    "file = open('data/datanew','a')\n",
    "for i in range(len(data)):\n",
    "    s = str(data[i]).replace('[','').replace(']','')#去除[],这两行按数据不同，可以选择\n",
    "    s = s.replace(\"'\",'').replace(',','') +'\\n'   #去除单引号，逗号，每行末尾追加换行符\n",
    "    file.write(s)\n",
    "file.close()\n",
    "\n",
    "file = open('data/lable','a')\n",
    "for i in range(len(label)):\n",
    "    s = str(label[i]).replace('[','').replace(']','')#去除[],这两行按数据不同，可以选择\n",
    "    s = s.replace(\"'\",'').replace(',','') +'\\n'   #去除单引号，逗号，每行末尾追加换行符\n",
    "    file.write(s)\n",
    "file.close()\n"
   ]
  }
 ],
 "metadata": {
  "kernelspec": {
   "display_name": "Python 3",
   "language": "python",
   "name": "python3"
  },
  "language_info": {
   "codemirror_mode": {
    "name": "ipython",
    "version": 3
   },
   "file_extension": ".py",
   "mimetype": "text/x-python",
   "name": "python",
   "nbconvert_exporter": "python",
   "pygments_lexer": "ipython3",
   "version": "3.6.3"
  }
 },
 "nbformat": 4,
 "nbformat_minor": 2
}
